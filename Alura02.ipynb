{
 "cells": [
  {
   "cell_type": "code",
   "execution_count": 5,
   "metadata": {},
   "outputs": [
    {
     "name": "stdout",
     "output_type": "stream",
     "text": [
      "   home  how_it_works  contact  bought\n",
      "0     1             1        0       0\n",
      "1     1             1        0       0\n",
      "2     1             1        0       0\n",
      "3     1             1        0       0\n",
      "4     1             1        0       0\n",
      "Treinaremos com 74 elementos e testaremos com 25 elementos \n",
      "A acurácia foi de : 96.00% \n",
      "0    17\n",
      "1     8\n",
      "Name: comprou, dtype: int64\n",
      "0    49\n",
      "1    25\n",
      "Name: comprou, dtype: int64\n"
     ]
    }
   ],
   "source": [
    "import pandas as pd\n",
    "from sklearn.svm import LinearSVC\n",
    "from sklearn.metrics import accuracy_score\n",
    "from sklearn.model_selection import train_test_split\n",
    "\n",
    "uri = \"https://gist.githubusercontent.com/guilhermesilveira/2d2efa37d66b6c84a722ea627a897ced/raw/10968b997d885cbded1c92938c7a9912ba41c615/tracking.csv\"\n",
    "dados = pd.read_csv(uri)\n",
    "\n",
    "print(dados.head())\n",
    "\n",
    "mapa = {\"home\":\"principal\", \"how_it_works\":\"como_funciona\", \"contact\": \"contato\", \"bought\":\"comprou\"}\n",
    "dados.rename(columns=mapa, inplace=True)\n",
    "\n",
    "x = dados[[\"principal\",\"como_funciona\",\"contato\"]]\n",
    "y = dados[\"comprou\"]\n",
    "\n",
    "# treino_x = x[:75]\n",
    "# teste_x = x[75:]\n",
    "\n",
    "# treino_y = y[:75]\n",
    "# teste_y = y[75:]\n",
    "\n",
    "treino_x, teste_x, treino_y, teste_y = train_test_split(x,y, test_size=0.25, random_state = 20, stratify=y)\n",
    "\n",
    "print(\"Treinaremos com %d elementos e testaremos com %d elementos \" % (len(treino_x), len(teste_x)))\n",
    "\n",
    "\n",
    "\n",
    "\n",
    "modelo = LinearSVC()\n",
    "modelo.fit(treino_x, treino_y)\n",
    "\n",
    "previsoes = modelo.predict(teste_x)\n",
    "\n",
    "acuracia = accuracy_score(teste_y, previsoes)*100\n",
    "\n",
    "print(\"A acurácia foi de : %.2f%% \" % acuracia )\n",
    "\n",
    "print(teste_y.value_counts())\n",
    "print(treino_y.value_counts())"
   ]
  },
  {
   "cell_type": "code",
   "execution_count": null,
   "metadata": {},
   "outputs": [],
   "source": []
  },
  {
   "cell_type": "code",
   "execution_count": null,
   "metadata": {},
   "outputs": [],
   "source": []
  }
 ],
 "metadata": {
  "kernelspec": {
   "display_name": "Python 3",
   "language": "python",
   "name": "python3"
  },
  "language_info": {
   "codemirror_mode": {
    "name": "ipython",
    "version": 3
   },
   "file_extension": ".py",
   "mimetype": "text/x-python",
   "name": "python",
   "nbconvert_exporter": "python",
   "pygments_lexer": "ipython3",
   "version": "3.6.9"
  }
 },
 "nbformat": 4,
 "nbformat_minor": 4
}
